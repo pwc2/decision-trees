{
 "cells": [
  {
   "cell_type": "code",
   "execution_count": 1,
   "metadata": {
    "collapsed": true,
    "pycharm": {
     "is_executing": false
    }
   },
   "outputs": [],
   "source": [
    "import pandas as pd\n",
    "from sklearn.ensemble import RandomForestClassifier\n",
    "from sklearn.tree import DecisionTreeClassifier"
   ]
  },
  {
   "cell_type": "code",
   "execution_count": 2,
   "outputs": [],
   "source": [
    "train_set = pd.read_csv('/Users/patrick/PycharmProjects/decision-trees/data/pa3_train.csv')\n",
    "validation_set = pd.read_csv('/Users/patrick/PycharmProjects/decision-trees/data/pa3_val.csv')\n",
    "test_set = pd.read_csv('/Users/patrick/PycharmProjects/decision-trees/data/pa3_test.csv')\n",
    "\n",
    "X_train = train_set.drop('class', axis=1).to_numpy()\n",
    "y_train = train_set['class'].to_numpy()\n",
    "\n",
    "X_val = validation_set.drop('class', axis=1).to_numpy()\n",
    "y_val = validation_set['class'].to_numpy()"
   ],
   "metadata": {
    "collapsed": false,
    "pycharm": {
     "name": "#%%\n",
     "is_executing": false
    }
   }
  },
  {
   "cell_type": "markdown",
   "source": [
    "##### Compare results generated from sklearn DecisionTreeClassifier and RandomForestClassifier."
   ],
   "metadata": {
    "collapsed": false
   }
  },
  {
   "cell_type": "code",
   "execution_count": 3,
   "outputs": [
    {
     "name": "stdout",
     "text": [
      "Train: 0.9532211735740664, Validation: 0.9649230769230769\n"
     ],
     "output_type": "stream"
    }
   ],
   "source": [
    "# Depth 2 decision tree\n",
    "dt = DecisionTreeClassifier(max_depth=2)\n",
    "dt.fit(X_train, y_train)\n",
    "\n",
    "train_acc = dt.score(X_train, y_train)\n",
    "val_acc = dt.score(X_val, y_val)\n",
    "print('Train: ' + str(train_acc) + ', Validation: ' + str(val_acc))"
   ],
   "metadata": {
    "collapsed": false,
    "pycharm": {
     "name": "#%%\n",
     "is_executing": false
    }
   }
  },
  {
   "cell_type": "code",
   "execution_count": 4,
   "outputs": [
    {
     "name": "stdout",
     "text": [
      "Train: 0.9938448912597456, Validation: 0.9950769230769231\n"
     ],
     "output_type": "stream"
    }
   ],
   "source": [
    "# Depth 4 decision tree\n",
    "dt = DecisionTreeClassifier(max_depth=4)\n",
    "dt.fit(X_train, y_train)\n",
    "\n",
    "train_acc = dt.score(X_train, y_train)\n",
    "val_acc = dt.score(X_val, y_val)\n",
    "print('Train: ' + str(train_acc) + ', Validation: ' + str(val_acc))"
   ],
   "metadata": {
    "collapsed": false,
    "pycharm": {
     "name": "#%%\n",
     "is_executing": false
    }
   }
  },
  {
   "cell_type": "code",
   "execution_count": 5,
   "outputs": [
    {
     "name": "stdout",
     "text": [
      "Train: 1.0, Validation: 1.0\n"
     ],
     "output_type": "stream"
    }
   ],
   "source": [
    "# Depth 6 decision tree\n",
    "dt = DecisionTreeClassifier(max_depth=6)\n",
    "dt.fit(X_train, y_train)\n",
    "\n",
    "train_acc = dt.score(X_train, y_train)\n",
    "val_acc = dt.score(X_val, y_val)\n",
    "print('Train: ' + str(train_acc) + ', Validation: ' + str(val_acc))"
   ],
   "metadata": {
    "collapsed": false,
    "pycharm": {
     "name": "#%%\n",
     "is_executing": false
    }
   }
  },
  {
   "cell_type": "code",
   "execution_count": 6,
   "outputs": [
    {
     "name": "stdout",
     "text": [
      "Train: 0.9378334017234304, Validation: 0.9532307692307692\n"
     ],
     "output_type": "stream"
    }
   ],
   "source": [
    "# Random forest, depth 2, n_trees 15, n_features 50\n",
    "rf = RandomForestClassifier(n_estimators=15, max_depth=2, max_features=50, random_state=1)\n",
    "rf.fit(X_train, y_train)\n",
    "\n",
    "train_acc = rf.score(X_train, y_train)\n",
    "val_acc = rf.score(X_val, y_val)\n",
    "print('Train: ' + str(train_acc) + ', Validation: ' + str(val_acc))"
   ],
   "metadata": {
    "collapsed": false,
    "pycharm": {
     "name": "#%%\n",
     "is_executing": false
    }
   }
  },
  {
   "cell_type": "code",
   "execution_count": 6,
   "outputs": [],
   "source": [],
   "metadata": {
    "collapsed": false,
    "pycharm": {
     "name": "#%%\n",
     "is_executing": false
    }
   }
  }
 ],
 "metadata": {
  "kernelspec": {
   "display_name": "Python 3",
   "language": "python",
   "name": "python3"
  },
  "language_info": {
   "codemirror_mode": {
    "name": "ipython",
    "version": 2
   },
   "file_extension": ".py",
   "mimetype": "text/x-python",
   "name": "python",
   "nbconvert_exporter": "python",
   "pygments_lexer": "ipython2",
   "version": "2.7.6"
  },
  "pycharm": {
   "stem_cell": {
    "cell_type": "raw",
    "source": [],
    "metadata": {
     "collapsed": false
    }
   }
  }
 },
 "nbformat": 4,
 "nbformat_minor": 0
}